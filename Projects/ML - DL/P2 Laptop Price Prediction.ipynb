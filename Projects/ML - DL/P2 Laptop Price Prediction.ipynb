{
 "cells": [
  {
   "cell_type": "markdown",
   "metadata": {},
   "source": [
    "<div style=\"background-color:#E6F9E6; padding: 20px; border-radius: 10px; box-shadow: 0 2px 4px 0 rgba(0, 0, 0, 0.1); border:2px solid #66C2A5; margin-top: 20px;\">\n",
    "    <h1 style=\"font-size:24px; font-family:Georgia, serif; color:#4A90E2; text-align: center; text-shadow: 2px 2px 4px rgba(0, 0, 0, 0.2);\">\n",
    "        About Author\n",
    "    </h1>\n",
    "    <div style=\"text-align:center;\">\n",
    "        <a href=\"https://www.sak.kesug.com\">\n",
    "            <img src=\"https://media.licdn.com/dms/image/v2/D4E03AQEa6oE6JdFbTQ/profile-displayphoto-shrink_200_200/profile-displayphoto-shrink_200_200/0/1729333367804?e=1741219200&v=beta&t=gCWp1Yr18TkOP3af6-g-2vsRVJgvkvzbnnusC-YDqUc\" style=\"width: 20%; border-radius: 50%;\" alt=\" Hafiz Kalim Ullah\">\n",
    "        </a>\n",
    "    </div>\n",
    "    <h2 style=\"font-size:20px; font-family:Georgia, serif; color:#333; text-align:center;\">Mr.Hafiz Kalim Ullah</h2>\n",
    "    <p style=\"font-size:16px; font-family:Georgia, serif; line-height: 1.5em; text-align:center; color:#333;\">\n",
    "        <em>Data Scientist / AI Engineer</em><br>\n",
    "        <em>Machine Learning | Deep Learning | NLP | Computer Vision</em>\n",
    "    </p>\n",
    "    <div style=\"text-align:center; margin-top: 10px;\">\n",
    "        <a href=\"https://www.linkedin.com/in/hafizkalimullah/\">\n",
    "            <img width=\"50\" height=\"50\" src=\"https://img.icons8.com/color/48/linkedin.png\" alt=\"linkedin\">\n",
    "        </a>\n",
    "        <a href=\"https://github.com/Kalimullah49\">\n",
    "            <img width=\"50\" height=\"50\" src=\"https://img.icons8.com/ios-glyphs/50/github.png\" alt=\"github\">\n",
    "        </a>\n",
    "        <a href=\"https://www.kaggle.com/hafizkalimullah\">\n",
    "            <img width=\"50\" height=\"50\" src=\"https://img.icons8.com/clouds/100/kaggle.png\" alt=\"kaggle\">\n",
    "        </a>\n",
    "    </div>\n",
    "    <div style=\"text-align:center; margin-top: 20px;\">\n",
    "        <a href=\"https://ww.hku.kesug.com\" style=\"font-size:18px; font-family:Georgia, serif; color:#4A90E2; text-decoration:none; border:2px solid #4A90E2; padding: 5px 15px; border-radius: 5px;\">\n",
    "            Portfolio Site\n",
    "        </a>\n",
    "    </div>\n",
    "</div>\n"
   ]
  },
  {
   "cell_type": "markdown",
   "metadata": {},
   "source": [
    "<div style=\"background-color:#E6F9E6; padding: 20px; border-radius: 10px; box-shadow: 0 2px 4px 0 rgba(0, 0, 0, 0.1); border:2px solid #66C2A5; margin-top: 20px;\">\n",
    "    <h1 style=\"font-size:24px; font-family:Georgia, serif; color:#4A90E2; text-align: center; text-shadow: 2px 2px 4px rgba(0, 0, 0, 0.2);\">\n",
    "        Laptop Sales Price Prediction 2024 Dataset\n",
    "    </h1>\n",
    "    <h2 style=\"font-size:20px; font-family:Georgia, serif; color:#66C2A5;\">File Descriptions</h2>\n",
    "    <p style=\"font-size:16px; font-family:Georgia, serif; line-height: 1.5em; text-indent: 20px; color:#333;\">\n",
    "        <strong>laptop_sales_price_prediction.csv:</strong> CSV file containing the cleaned dataset.\n",
    "    </p>\n",
    "    <h2 style=\"font-size:20px; font-family:Georgia, serif; color:#66C2A5;\">Column Descriptions</h2>\n",
    "    <ul style=\"font-size:16px; font-family:Georgia, serif; color:#333;\">\n",
    "        <li><strong>Name:</strong> Name of the laptop model.</li>\n",
    "        \n",
    "    \n",
    "        \n",
    "</div>\n"
   ]
  }
 ],
 "metadata": {
  "language_info": {
   "name": "python"
  }
 },
 "nbformat": 4,
 "nbformat_minor": 2
}
